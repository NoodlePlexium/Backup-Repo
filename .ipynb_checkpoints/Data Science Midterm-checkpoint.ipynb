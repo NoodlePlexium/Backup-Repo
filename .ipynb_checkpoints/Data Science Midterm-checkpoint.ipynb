{
 "cells": [
  {
   "cell_type": "markdown",
   "id": "f5fa58c3-0656-419a-b23a-dfed87f6b649",
   "metadata": {},
   "source": [
    "### 1. Domain-specific area and objectives of the project - 200 - 500 words\n",
    "*The first step of the coursework is to identify and describe the domain-specific area.\n",
    "This is an area of industry or science where a linear regression model will contribute.\n",
    "It can be any field which can benefit from machine learning. Then state and justify\n",
    "the objectives of the project. Discuss its impact and contribution to the domain-\n",
    "specific area. State any contribution which the results may make to the challenge\n",
    "addressed.*\n",
    "\n",
    "\n",
    "**Domain** <br>\n",
    "The resale industry revolves around buying products at low prices then repackaging and reselling these producs at market prices to generate a profit. This business strategy works as domain experts usually have a better idea of how things are priced thatn the general public. These experts can leverage their knowlege to find products that are undervalued. Resale exists in many industries, from selling bicycles on Facebook Marketplace to hunting down decrepid properties, refurbishing and flipping them. \n",
    "<br>\n",
    "\n",
    "**Project Objectives and Justification** <br>\n",
    "In this project I am going to create a machine learning regression model that can predict the price of laptops given a list of specs. The market price of a laptop might not be derived from the sum total value of its components. Instead, a laptop's price depends on a combination of different elements, such as build quality, brand, consumer demand as well as technical specifications. A machine learning model is likely able to find relationships between dependencies and generate an accurate prediction, given enough training examples.\n",
    "<br>\n",
    "\n",
    "**Impact and Contribution** <br>\n",
    "If the model can provide accurate enough predictions, it can be used in combination with a webscraper to look at hundreds of laptops on the internet and flag ones that may be considered \"undervalued\". By automating this process, an individual might gain a competitive edge in the resale business as they will have the ability to screen far more products than competitors."
   ]
  },
  {
   "cell_type": "markdown",
   "id": "7e8d6a08-63b1-4257-a5d7-77e311ceed87",
   "metadata": {},
   "source": [
    "### 2. Dataset description (200-500 words)\n",
    "*Provide a description of the dataset, its size, data types, the way the\n",
    "data was acquired. State clearly the source of the dataset. Kaggle.com provides a\n",
    "wide variety of datasets.*\n",
    "\n",
    "\n",
    "This project will use the \"Laptop Price\" dataset available on Kaggle: \n",
    "[Laptop Price Dataset](https://www.kaggle.com/datasets/muhammetvarl/laptop-price/) <br>\n",
    "This dataset contains 1320 laptop entries each with their specification listed. The source of the dataset does not specify how the data was aquired, it is likely that the data was scraped from e-commerce websites. Utilising this dataset, my hope is that there are sufficient entries to train an accurate regression model.\n",
    "\n",
    "Each entry in the dataset has the following attributes (not necessarily in this order).\n",
    "These attributes cover both physical and technical specifications and should have sufficient predictive power when used in combination.\n",
    "|Attribute:|manufacturer|model|type name|screen size|screen resolution|CPU|GPU|RAM|storage|OS|weight|price|\n",
    "|---|---|---|---|---|---|---|---|---|---|---|---|---|\n",
    "|Datatype:|string|string|string|numeric|string|string|string|string|string|string|string|numeric|\n",
    "\n",
    "<br>\n",
    "The dataset is not in 1NF as many of the attributes are strings with inconsistent formating. For example:       \"screen resolution\" may appear in the form: *\"Full HD 1920x1080\"* or *\"1920x1080\"* or simply as *\"Full HD\"*. The \"screen resolution\" value will need to be extracted and encoded as a numerical value in the range (0-1). Similarly, the \"storage\" attribute is not an scalar value, so it will have to be split into two separate attributes: \"ssd storage\" and \"hdd storage\"."
   ]
  },
  {
   "cell_type": "markdown",
   "id": "748cb505-8948-405b-86bb-ed6bea89a891",
   "metadata": {},
   "source": [
    "### 3. Data preparation (aquisition/cleaning/sanitisation/normalisation)\n",
    "*Convert/store the dataset locally and preprocess the data. This is usually equivalent\n",
    "to transforming a table from a database into First Normal Form (1NF). Describe the\n",
    "preprocessing steps and why they were needed. Describe the file type/format, for\n",
    "example CSV file. Process the dataset for missing data if needed. For this part use\n",
    "Pandas DataFrame.*\n",
    "\n",
    "The dataset is a csv file"
   ]
  },
  {
   "cell_type": "code",
   "execution_count": 3,
   "id": "3eb5ca23-9be9-49c9-950a-846fbf995a5f",
   "metadata": {},
   "outputs": [
    {
     "ename": "FileNotFoundError",
     "evalue": "[Errno 2] No such file or directory: 'Laptop_Prices.csv'",
     "output_type": "error",
     "traceback": [
      "\u001b[1;31m---------------------------------------------------------------------------\u001b[0m",
      "\u001b[1;31mFileNotFoundError\u001b[0m                         Traceback (most recent call last)",
      "Cell \u001b[1;32mIn[3], line 3\u001b[0m\n\u001b[0;32m      1\u001b[0m \u001b[38;5;28;01mimport\u001b[39;00m \u001b[38;5;21;01mpandas\u001b[39;00m \u001b[38;5;28;01mas\u001b[39;00m \u001b[38;5;21;01mpd\u001b[39;00m\n\u001b[1;32m----> 3\u001b[0m df \u001b[38;5;241m=\u001b[39m \u001b[43mpd\u001b[49m\u001b[38;5;241;43m.\u001b[39;49m\u001b[43mread_csv\u001b[49m\u001b[43m(\u001b[49m\u001b[38;5;124;43m\"\u001b[39;49m\u001b[38;5;124;43mLaptop_Prices.csv\u001b[39;49m\u001b[38;5;124;43m\"\u001b[39;49m\u001b[43m)\u001b[49m\n",
      "File \u001b[1;32m~\\AppData\\Local\\Programs\\Python\\Python310\\lib\\site-packages\\pandas\\io\\parsers\\readers.py:1026\u001b[0m, in \u001b[0;36mread_csv\u001b[1;34m(filepath_or_buffer, sep, delimiter, header, names, index_col, usecols, dtype, engine, converters, true_values, false_values, skipinitialspace, skiprows, skipfooter, nrows, na_values, keep_default_na, na_filter, verbose, skip_blank_lines, parse_dates, infer_datetime_format, keep_date_col, date_parser, date_format, dayfirst, cache_dates, iterator, chunksize, compression, thousands, decimal, lineterminator, quotechar, quoting, doublequote, escapechar, comment, encoding, encoding_errors, dialect, on_bad_lines, delim_whitespace, low_memory, memory_map, float_precision, storage_options, dtype_backend)\u001b[0m\n\u001b[0;32m   1013\u001b[0m kwds_defaults \u001b[38;5;241m=\u001b[39m _refine_defaults_read(\n\u001b[0;32m   1014\u001b[0m     dialect,\n\u001b[0;32m   1015\u001b[0m     delimiter,\n\u001b[1;32m   (...)\u001b[0m\n\u001b[0;32m   1022\u001b[0m     dtype_backend\u001b[38;5;241m=\u001b[39mdtype_backend,\n\u001b[0;32m   1023\u001b[0m )\n\u001b[0;32m   1024\u001b[0m kwds\u001b[38;5;241m.\u001b[39mupdate(kwds_defaults)\n\u001b[1;32m-> 1026\u001b[0m \u001b[38;5;28;01mreturn\u001b[39;00m \u001b[43m_read\u001b[49m\u001b[43m(\u001b[49m\u001b[43mfilepath_or_buffer\u001b[49m\u001b[43m,\u001b[49m\u001b[43m \u001b[49m\u001b[43mkwds\u001b[49m\u001b[43m)\u001b[49m\n",
      "File \u001b[1;32m~\\AppData\\Local\\Programs\\Python\\Python310\\lib\\site-packages\\pandas\\io\\parsers\\readers.py:620\u001b[0m, in \u001b[0;36m_read\u001b[1;34m(filepath_or_buffer, kwds)\u001b[0m\n\u001b[0;32m    617\u001b[0m _validate_names(kwds\u001b[38;5;241m.\u001b[39mget(\u001b[38;5;124m\"\u001b[39m\u001b[38;5;124mnames\u001b[39m\u001b[38;5;124m\"\u001b[39m, \u001b[38;5;28;01mNone\u001b[39;00m))\n\u001b[0;32m    619\u001b[0m \u001b[38;5;66;03m# Create the parser.\u001b[39;00m\n\u001b[1;32m--> 620\u001b[0m parser \u001b[38;5;241m=\u001b[39m TextFileReader(filepath_or_buffer, \u001b[38;5;241m*\u001b[39m\u001b[38;5;241m*\u001b[39mkwds)\n\u001b[0;32m    622\u001b[0m \u001b[38;5;28;01mif\u001b[39;00m chunksize \u001b[38;5;129;01mor\u001b[39;00m iterator:\n\u001b[0;32m    623\u001b[0m     \u001b[38;5;28;01mreturn\u001b[39;00m parser\n",
      "File \u001b[1;32m~\\AppData\\Local\\Programs\\Python\\Python310\\lib\\site-packages\\pandas\\io\\parsers\\readers.py:1620\u001b[0m, in \u001b[0;36mTextFileReader.__init__\u001b[1;34m(self, f, engine, **kwds)\u001b[0m\n\u001b[0;32m   1617\u001b[0m     \u001b[38;5;28mself\u001b[39m\u001b[38;5;241m.\u001b[39moptions[\u001b[38;5;124m\"\u001b[39m\u001b[38;5;124mhas_index_names\u001b[39m\u001b[38;5;124m\"\u001b[39m] \u001b[38;5;241m=\u001b[39m kwds[\u001b[38;5;124m\"\u001b[39m\u001b[38;5;124mhas_index_names\u001b[39m\u001b[38;5;124m\"\u001b[39m]\n\u001b[0;32m   1619\u001b[0m \u001b[38;5;28mself\u001b[39m\u001b[38;5;241m.\u001b[39mhandles: IOHandles \u001b[38;5;241m|\u001b[39m \u001b[38;5;28;01mNone\u001b[39;00m \u001b[38;5;241m=\u001b[39m \u001b[38;5;28;01mNone\u001b[39;00m\n\u001b[1;32m-> 1620\u001b[0m \u001b[38;5;28mself\u001b[39m\u001b[38;5;241m.\u001b[39m_engine \u001b[38;5;241m=\u001b[39m \u001b[38;5;28;43mself\u001b[39;49m\u001b[38;5;241;43m.\u001b[39;49m\u001b[43m_make_engine\u001b[49m\u001b[43m(\u001b[49m\u001b[43mf\u001b[49m\u001b[43m,\u001b[49m\u001b[43m \u001b[49m\u001b[38;5;28;43mself\u001b[39;49m\u001b[38;5;241;43m.\u001b[39;49m\u001b[43mengine\u001b[49m\u001b[43m)\u001b[49m\n",
      "File \u001b[1;32m~\\AppData\\Local\\Programs\\Python\\Python310\\lib\\site-packages\\pandas\\io\\parsers\\readers.py:1880\u001b[0m, in \u001b[0;36mTextFileReader._make_engine\u001b[1;34m(self, f, engine)\u001b[0m\n\u001b[0;32m   1878\u001b[0m     \u001b[38;5;28;01mif\u001b[39;00m \u001b[38;5;124m\"\u001b[39m\u001b[38;5;124mb\u001b[39m\u001b[38;5;124m\"\u001b[39m \u001b[38;5;129;01mnot\u001b[39;00m \u001b[38;5;129;01min\u001b[39;00m mode:\n\u001b[0;32m   1879\u001b[0m         mode \u001b[38;5;241m+\u001b[39m\u001b[38;5;241m=\u001b[39m \u001b[38;5;124m\"\u001b[39m\u001b[38;5;124mb\u001b[39m\u001b[38;5;124m\"\u001b[39m\n\u001b[1;32m-> 1880\u001b[0m \u001b[38;5;28mself\u001b[39m\u001b[38;5;241m.\u001b[39mhandles \u001b[38;5;241m=\u001b[39m \u001b[43mget_handle\u001b[49m\u001b[43m(\u001b[49m\n\u001b[0;32m   1881\u001b[0m \u001b[43m    \u001b[49m\u001b[43mf\u001b[49m\u001b[43m,\u001b[49m\n\u001b[0;32m   1882\u001b[0m \u001b[43m    \u001b[49m\u001b[43mmode\u001b[49m\u001b[43m,\u001b[49m\n\u001b[0;32m   1883\u001b[0m \u001b[43m    \u001b[49m\u001b[43mencoding\u001b[49m\u001b[38;5;241;43m=\u001b[39;49m\u001b[38;5;28;43mself\u001b[39;49m\u001b[38;5;241;43m.\u001b[39;49m\u001b[43moptions\u001b[49m\u001b[38;5;241;43m.\u001b[39;49m\u001b[43mget\u001b[49m\u001b[43m(\u001b[49m\u001b[38;5;124;43m\"\u001b[39;49m\u001b[38;5;124;43mencoding\u001b[39;49m\u001b[38;5;124;43m\"\u001b[39;49m\u001b[43m,\u001b[49m\u001b[43m \u001b[49m\u001b[38;5;28;43;01mNone\u001b[39;49;00m\u001b[43m)\u001b[49m\u001b[43m,\u001b[49m\n\u001b[0;32m   1884\u001b[0m \u001b[43m    \u001b[49m\u001b[43mcompression\u001b[49m\u001b[38;5;241;43m=\u001b[39;49m\u001b[38;5;28;43mself\u001b[39;49m\u001b[38;5;241;43m.\u001b[39;49m\u001b[43moptions\u001b[49m\u001b[38;5;241;43m.\u001b[39;49m\u001b[43mget\u001b[49m\u001b[43m(\u001b[49m\u001b[38;5;124;43m\"\u001b[39;49m\u001b[38;5;124;43mcompression\u001b[39;49m\u001b[38;5;124;43m\"\u001b[39;49m\u001b[43m,\u001b[49m\u001b[43m \u001b[49m\u001b[38;5;28;43;01mNone\u001b[39;49;00m\u001b[43m)\u001b[49m\u001b[43m,\u001b[49m\n\u001b[0;32m   1885\u001b[0m \u001b[43m    \u001b[49m\u001b[43mmemory_map\u001b[49m\u001b[38;5;241;43m=\u001b[39;49m\u001b[38;5;28;43mself\u001b[39;49m\u001b[38;5;241;43m.\u001b[39;49m\u001b[43moptions\u001b[49m\u001b[38;5;241;43m.\u001b[39;49m\u001b[43mget\u001b[49m\u001b[43m(\u001b[49m\u001b[38;5;124;43m\"\u001b[39;49m\u001b[38;5;124;43mmemory_map\u001b[39;49m\u001b[38;5;124;43m\"\u001b[39;49m\u001b[43m,\u001b[49m\u001b[43m \u001b[49m\u001b[38;5;28;43;01mFalse\u001b[39;49;00m\u001b[43m)\u001b[49m\u001b[43m,\u001b[49m\n\u001b[0;32m   1886\u001b[0m \u001b[43m    \u001b[49m\u001b[43mis_text\u001b[49m\u001b[38;5;241;43m=\u001b[39;49m\u001b[43mis_text\u001b[49m\u001b[43m,\u001b[49m\n\u001b[0;32m   1887\u001b[0m \u001b[43m    \u001b[49m\u001b[43merrors\u001b[49m\u001b[38;5;241;43m=\u001b[39;49m\u001b[38;5;28;43mself\u001b[39;49m\u001b[38;5;241;43m.\u001b[39;49m\u001b[43moptions\u001b[49m\u001b[38;5;241;43m.\u001b[39;49m\u001b[43mget\u001b[49m\u001b[43m(\u001b[49m\u001b[38;5;124;43m\"\u001b[39;49m\u001b[38;5;124;43mencoding_errors\u001b[39;49m\u001b[38;5;124;43m\"\u001b[39;49m\u001b[43m,\u001b[49m\u001b[43m \u001b[49m\u001b[38;5;124;43m\"\u001b[39;49m\u001b[38;5;124;43mstrict\u001b[39;49m\u001b[38;5;124;43m\"\u001b[39;49m\u001b[43m)\u001b[49m\u001b[43m,\u001b[49m\n\u001b[0;32m   1888\u001b[0m \u001b[43m    \u001b[49m\u001b[43mstorage_options\u001b[49m\u001b[38;5;241;43m=\u001b[39;49m\u001b[38;5;28;43mself\u001b[39;49m\u001b[38;5;241;43m.\u001b[39;49m\u001b[43moptions\u001b[49m\u001b[38;5;241;43m.\u001b[39;49m\u001b[43mget\u001b[49m\u001b[43m(\u001b[49m\u001b[38;5;124;43m\"\u001b[39;49m\u001b[38;5;124;43mstorage_options\u001b[39;49m\u001b[38;5;124;43m\"\u001b[39;49m\u001b[43m,\u001b[49m\u001b[43m \u001b[49m\u001b[38;5;28;43;01mNone\u001b[39;49;00m\u001b[43m)\u001b[49m\u001b[43m,\u001b[49m\n\u001b[0;32m   1889\u001b[0m \u001b[43m\u001b[49m\u001b[43m)\u001b[49m\n\u001b[0;32m   1890\u001b[0m \u001b[38;5;28;01massert\u001b[39;00m \u001b[38;5;28mself\u001b[39m\u001b[38;5;241m.\u001b[39mhandles \u001b[38;5;129;01mis\u001b[39;00m \u001b[38;5;129;01mnot\u001b[39;00m \u001b[38;5;28;01mNone\u001b[39;00m\n\u001b[0;32m   1891\u001b[0m f \u001b[38;5;241m=\u001b[39m \u001b[38;5;28mself\u001b[39m\u001b[38;5;241m.\u001b[39mhandles\u001b[38;5;241m.\u001b[39mhandle\n",
      "File \u001b[1;32m~\\AppData\\Local\\Programs\\Python\\Python310\\lib\\site-packages\\pandas\\io\\common.py:873\u001b[0m, in \u001b[0;36mget_handle\u001b[1;34m(path_or_buf, mode, encoding, compression, memory_map, is_text, errors, storage_options)\u001b[0m\n\u001b[0;32m    868\u001b[0m \u001b[38;5;28;01melif\u001b[39;00m \u001b[38;5;28misinstance\u001b[39m(handle, \u001b[38;5;28mstr\u001b[39m):\n\u001b[0;32m    869\u001b[0m     \u001b[38;5;66;03m# Check whether the filename is to be opened in binary mode.\u001b[39;00m\n\u001b[0;32m    870\u001b[0m     \u001b[38;5;66;03m# Binary mode does not support 'encoding' and 'newline'.\u001b[39;00m\n\u001b[0;32m    871\u001b[0m     \u001b[38;5;28;01mif\u001b[39;00m ioargs\u001b[38;5;241m.\u001b[39mencoding \u001b[38;5;129;01mand\u001b[39;00m \u001b[38;5;124m\"\u001b[39m\u001b[38;5;124mb\u001b[39m\u001b[38;5;124m\"\u001b[39m \u001b[38;5;129;01mnot\u001b[39;00m \u001b[38;5;129;01min\u001b[39;00m ioargs\u001b[38;5;241m.\u001b[39mmode:\n\u001b[0;32m    872\u001b[0m         \u001b[38;5;66;03m# Encoding\u001b[39;00m\n\u001b[1;32m--> 873\u001b[0m         handle \u001b[38;5;241m=\u001b[39m \u001b[38;5;28;43mopen\u001b[39;49m\u001b[43m(\u001b[49m\n\u001b[0;32m    874\u001b[0m \u001b[43m            \u001b[49m\u001b[43mhandle\u001b[49m\u001b[43m,\u001b[49m\n\u001b[0;32m    875\u001b[0m \u001b[43m            \u001b[49m\u001b[43mioargs\u001b[49m\u001b[38;5;241;43m.\u001b[39;49m\u001b[43mmode\u001b[49m\u001b[43m,\u001b[49m\n\u001b[0;32m    876\u001b[0m \u001b[43m            \u001b[49m\u001b[43mencoding\u001b[49m\u001b[38;5;241;43m=\u001b[39;49m\u001b[43mioargs\u001b[49m\u001b[38;5;241;43m.\u001b[39;49m\u001b[43mencoding\u001b[49m\u001b[43m,\u001b[49m\n\u001b[0;32m    877\u001b[0m \u001b[43m            \u001b[49m\u001b[43merrors\u001b[49m\u001b[38;5;241;43m=\u001b[39;49m\u001b[43merrors\u001b[49m\u001b[43m,\u001b[49m\n\u001b[0;32m    878\u001b[0m \u001b[43m            \u001b[49m\u001b[43mnewline\u001b[49m\u001b[38;5;241;43m=\u001b[39;49m\u001b[38;5;124;43m\"\u001b[39;49m\u001b[38;5;124;43m\"\u001b[39;49m\u001b[43m,\u001b[49m\n\u001b[0;32m    879\u001b[0m \u001b[43m        \u001b[49m\u001b[43m)\u001b[49m\n\u001b[0;32m    880\u001b[0m     \u001b[38;5;28;01melse\u001b[39;00m:\n\u001b[0;32m    881\u001b[0m         \u001b[38;5;66;03m# Binary mode\u001b[39;00m\n\u001b[0;32m    882\u001b[0m         handle \u001b[38;5;241m=\u001b[39m \u001b[38;5;28mopen\u001b[39m(handle, ioargs\u001b[38;5;241m.\u001b[39mmode)\n",
      "\u001b[1;31mFileNotFoundError\u001b[0m: [Errno 2] No such file or directory: 'Laptop_Prices.csv'"
     ]
    }
   ],
   "source": [
    "import pandas as pd\n",
    "\n",
    "df = pd.read_csv(\"Laptop_Prices.csv\")"
   ]
  },
  {
   "cell_type": "markdown",
   "id": "ea21b05f-94f8-445d-8bcf-a20507c8cc65",
   "metadata": {},
   "source": [
    "### 4. Statistical analysis\n",
    "Identify key series of the dataset and provide statistical summary of the data,\n",
    "including:\n",
    "- Measures of central tendency\n",
    "- Measures of spread\n",
    "- Type of distribution\n",
    "This can be done by using libraries such as NumPy, pandas and SciPy. Most likely\n",
    "the dataset will consist of multiple series."
   ]
  },
  {
   "cell_type": "markdown",
   "id": "6d00a4ca-048a-4396-9f37-5d6527b2b692",
   "metadata": {},
   "source": [
    "### 5. Visualisation\n",
    "Visualise key data series within the dataset by using the appropriate graphs. This\n",
    "can be done by using Python libraries, such as Matplotlib. Accompany any diagram\n",
    "with explanations - we will not award any points if you do not. Draw conclusions\n",
    "based on the diagrams, which otherwise, without visualisation would be difficult or\n",
    "impossible. Which visualisation (of the ones you prepared) is most important and\n",
    "why?\n",
    "6. Build your ML (Machine Learning) model\n",
    "- Identify the features and the labels which will be used in the data regression\n",
    "model and justify why they were selected\n",
    "- Explain their (i.e. features) importance for the process of building the ML\n",
    "model\n",
    "- Build the model by using an appropriate Python library, such as Weka or\n",
    "Scikit-learn\n",
    "- Run and evaluate your model: does your model fit the data or further pre-\n",
    "processing is required?"
   ]
  },
  {
   "cell_type": "markdown",
   "id": "d67a846f-8cce-4a58-a2d0-fe90da876a16",
   "metadata": {},
   "source": [
    "### 7. Validation\n",
    "Consider how the model’s results could be validated using either cross validation or\n",
    "other models/ensembles."
   ]
  },
  {
   "cell_type": "markdown",
   "id": "3b32fa27-9aee-471e-b7ce-0122f1765edc",
   "metadata": {},
   "source": [
    "### 8. Feature engineering\n",
    "Your model would benefit from using feature engineering techniques or polynomial\n",
    "features as described in Topic 5.4. Implement these techniques and re-evaluate your\n",
    "model."
   ]
  },
  {
   "cell_type": "markdown",
   "id": "3de331b8-4c81-444e-b452-7f098dd575e0",
   "metadata": {},
   "source": [
    "### 9. Programming style\n",
    "The Python code is expected to meet certain standards as described by most coding\n",
    "conventions. This includes code indentation, not using unnamed numerical\n",
    "constants, assigning meaningful names to variables and subroutines. Additionally,\n",
    "the code is expected to be commented, including all variables, sub-routines and calls\n",
    "to library methods."
   ]
  },
  {
   "cell_type": "markdown",
   "id": "b74001c8-ea26-44c2-bee3-24730c2d035c",
   "metadata": {},
   "source": [
    "### 10. Evaluation of your model (200 to 400 words)\n",
    "Evaluate the results of the machine learning model:\n",
    "- Numerically evaluate the performance of the model\n",
    "- Justify the use of an appropriate measure such as RMSE\n",
    "- Provide a reflective evaluation of the developed project considering the\n",
    "obtained results\n",
    "- Describe its contributions to the selected domain-specific area\n",
    "- Discuss whether the solution is transferable to other domain-specific areas"
   ]
  },
  {
   "cell_type": "code",
   "execution_count": null,
   "id": "215ac9b0-75c0-4217-a55a-36b2fb2c475d",
   "metadata": {},
   "outputs": [],
   "source": []
  }
 ],
 "metadata": {
  "kernelspec": {
   "display_name": "Python 3 (ipykernel)",
   "language": "python",
   "name": "python3"
  },
  "language_info": {
   "codemirror_mode": {
    "name": "ipython",
    "version": 3
   },
   "file_extension": ".py",
   "mimetype": "text/x-python",
   "name": "python",
   "nbconvert_exporter": "python",
   "pygments_lexer": "ipython3",
   "version": "3.10.0"
  }
 },
 "nbformat": 4,
 "nbformat_minor": 5
}
